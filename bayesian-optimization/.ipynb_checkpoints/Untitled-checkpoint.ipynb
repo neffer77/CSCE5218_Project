{
 "cells": [
  {
   "cell_type": "code",
   "execution_count": null,
   "metadata": {},
   "outputs": [],
   "source": [
    "import os\n",
    "import random\n",
    "from sklearn.model_selection import train_test_split\n",
    "import shutil\n",
    "\n",
    "def train_test_split_and_move(classification_folder1, classification_folder2, test_size=0.2, random_state=None):\n",
    "    \"\"\"\n",
    "    Perform train-test split for two classification folders containing JPG files\n",
    "    and move the files into train and test folders.\n",
    "\n",
    "    Parameters:\n",
    "    - classification_folder1: Path to the first classification folder.\n",
    "    - classification_folder2: Path to the second classification folder.\n",
    "    - test_size: Proportion of files to include in the test split (default is 0.2).\n",
    "    - random_state: Seed for random number generator (optional).\n",
    "\n",
    "    Returns:\n",
    "    - None\n",
    "    \"\"\"\n",
    "\n",
    "   \n",
    "\n",
    "    os.makedirs(train_folder1, exist_ok=True)\n",
    "    os.makedirs(test_folder1, exist_ok=True)\n",
    "    os.makedirs(train_folder2, exist_ok=True)\n",
    "    os.makedirs(test_folder2, exist_ok=True)\n",
    "\n",
    "    # List all JPG files in the classification folders\n",
    "    files1 = [f for f in os.listdir(classification_folder1) if f.endswith(\".jpg\")]\n",
    "    files2 = [f for f in os.listdir(classification_folder2) if f.endswith(\".jpg\")]\n",
    "\n",
    "    # Perform train-test split for each classification\n",
    "    train_files1, test_files1 = train_test_split(files1, test_size=test_size, random_state=random_state)\n",
    "    train_files2, test_files2 = train_test_split(files2, test_size=test_size, random_state=random_state)\n",
    "\n",
    "    # Move files to the appropriate train and test folders\n",
    "    for file in train_files1:\n",
    "        src = os.path.join(classification_folder1, file)\n",
    "        dst = os.path.join(train_folder1, file)\n",
    "        shutil.move(src, dst)\n",
    "\n",
    "    for file in test_files1:\n",
    "        src = os.path.join(classification_folder1, file)\n",
    "        dst = os.path.join(test_folder1, file)\n",
    "        shutil.move(src, dst)\n",
    "\n",
    "    for file in train_files2:\n",
    "        src = os.path.join(classification_folder2, file)\n",
    "        dst = os.path.join(train_folder2, file)\n",
    "        shutil.move(src, dst)\n",
    "\n",
    "    for file in test_files2:\n",
    "        src = os.path.join(classification_folder2, file)\n",
    "        dst = os.path.join(test_folder2, file)\n",
    "        shutil.move(src, dst)\n",
    "\n",
    "# Example usage:\n",
    "train_test_split_and_move(\"../../Driver Drowsiness Dataset (DDD)/Drowsy\", \"../../Driver Drowsiness Dataset (DDD)/Non Drowsy\", test_size=0.2, random_state=42)\n"
   ]
  },
  {
   "cell_type": "code",
   "execution_count": 5,
   "metadata": {},
   "outputs": [
    {
     "ename": "ModuleNotFoundError",
     "evalue": "No module named 'sklearn'",
     "output_type": "error",
     "traceback": [
      "\u001b[0;31m---------------------------------------------------------------------------\u001b[0m",
      "\u001b[0;31mModuleNotFoundError\u001b[0m                       Traceback (most recent call last)",
      "Cell \u001b[0;32mIn[5], line 3\u001b[0m\n\u001b[1;32m      1\u001b[0m \u001b[38;5;28;01mimport\u001b[39;00m \u001b[38;5;21;01mos\u001b[39;00m\n\u001b[1;32m      2\u001b[0m \u001b[38;5;28;01mimport\u001b[39;00m \u001b[38;5;21;01mrandom\u001b[39;00m\n\u001b[0;32m----> 3\u001b[0m \u001b[38;5;28;01mfrom\u001b[39;00m \u001b[38;5;21;01msklearn\u001b[39;00m\u001b[38;5;21;01m.\u001b[39;00m\u001b[38;5;21;01mmodel_selection\u001b[39;00m \u001b[38;5;28;01mimport\u001b[39;00m train_test_split\n\u001b[1;32m      4\u001b[0m \u001b[38;5;28;01mimport\u001b[39;00m \u001b[38;5;21;01mshutil\u001b[39;00m\n",
      "\u001b[0;31mModuleNotFoundError\u001b[0m: No module named 'sklearn'"
     ]
    }
   ],
   "source": [
    "import os\n",
    "import random\n",
    "from sklearn.model_selection import train_test_split\n",
    "import shutil\n"
   ]
  },
  {
   "cell_type": "code",
   "execution_count": 8,
   "metadata": {},
   "outputs": [
    {
     "name": "stdout",
     "output_type": "stream",
     "text": [
      "Python 2.7.18\n"
     ]
    }
   ],
   "source": []
  },
  {
   "cell_type": "code",
   "execution_count": 1,
   "metadata": {},
   "outputs": [],
   "source": [
    "classification_folder1 = \"../../Driver Drowsiness Dataset (DDD)/Drowsy\"\n",
    "classification_folder2 = \"../../Driver Drowsiness Dataset (DDD)/Non Drowsy\""
   ]
  },
  {
   "cell_type": "code",
   "execution_count": 3,
   "metadata": {},
   "outputs": [
    {
     "ename": "NameError",
     "evalue": "name 'os' is not defined",
     "output_type": "error",
     "traceback": [
      "\u001b[0;31m---------------------------------------------------------------------------\u001b[0m",
      "\u001b[0;31mNameError\u001b[0m                                 Traceback (most recent call last)",
      "Cell \u001b[0;32mIn[3], line 2\u001b[0m\n\u001b[1;32m      1\u001b[0m \u001b[38;5;66;03m# Create train and test folders for each classification\u001b[39;00m\n\u001b[0;32m----> 2\u001b[0m train_folder1 \u001b[38;5;241m=\u001b[39m \u001b[43mos\u001b[49m\u001b[38;5;241m.\u001b[39mpath\u001b[38;5;241m.\u001b[39mjoin(classification_folder1, \u001b[38;5;124m\"\u001b[39m\u001b[38;5;124mtrain\u001b[39m\u001b[38;5;124m\"\u001b[39m)\n\u001b[1;32m      3\u001b[0m test_folder1 \u001b[38;5;241m=\u001b[39m os\u001b[38;5;241m.\u001b[39mpath\u001b[38;5;241m.\u001b[39mjoin(classification_folder1, \u001b[38;5;124m\"\u001b[39m\u001b[38;5;124mtest\u001b[39m\u001b[38;5;124m\"\u001b[39m)\n\u001b[1;32m      4\u001b[0m train_folder2 \u001b[38;5;241m=\u001b[39m os\u001b[38;5;241m.\u001b[39mpath\u001b[38;5;241m.\u001b[39mjoin(classification_folder2, \u001b[38;5;124m\"\u001b[39m\u001b[38;5;124mtrain\u001b[39m\u001b[38;5;124m\"\u001b[39m)\n",
      "\u001b[0;31mNameError\u001b[0m: name 'os' is not defined"
     ]
    }
   ],
   "source": [
    " # Create train and test folders for each classification\n",
    "train_folder1 = os.path.join(classification_folder1, \"train\")\n",
    "test_folder1 = os.path.join(classification_folder1, \"test\")\n",
    "train_folder2 = os.path.join(classification_folder2, \"train\")\n",
    "test_folder2 = os.path.join(classification_folder2, \"test\")"
   ]
  },
  {
   "cell_type": "code",
   "execution_count": null,
   "metadata": {},
   "outputs": [],
   "source": []
  },
  {
   "cell_type": "code",
   "execution_count": null,
   "metadata": {},
   "outputs": [],
   "source": []
  },
  {
   "cell_type": "code",
   "execution_count": null,
   "metadata": {},
   "outputs": [],
   "source": []
  },
  {
   "cell_type": "code",
   "execution_count": null,
   "metadata": {},
   "outputs": [],
   "source": []
  }
 ],
 "metadata": {
  "kernelspec": {
   "display_name": "Python 3",
   "language": "python",
   "name": "my_python3"
  },
  "language_info": {
   "codemirror_mode": {
    "name": "ipython",
    "version": 3
   },
   "file_extension": ".py",
   "mimetype": "text/x-python",
   "name": "python",
   "nbconvert_exporter": "python",
   "pygments_lexer": "ipython3",
   "version": "3.11.4"
  }
 },
 "nbformat": 4,
 "nbformat_minor": 2
}
